{
  "metadata": {
    "kernelspec": {
      "language": "python",
      "display_name": "Python 3",
      "name": "python3"
    },
    "language_info": {
      "name": "python",
      "version": "3.10.14",
      "mimetype": "text/x-python",
      "codemirror_mode": {
        "name": "ipython",
        "version": 3
      },
      "pygments_lexer": "ipython3",
      "nbconvert_exporter": "python",
      "file_extension": ".py"
    },
    "kaggle": {
      "accelerator": "none",
      "dataSources": [
        {
          "sourceId": 9339345,
          "sourceType": "datasetVersion",
          "datasetId": 5659709
        }
      ],
      "dockerImageVersionId": 30761,
      "isInternetEnabled": true,
      "language": "python",
      "sourceType": "notebook",
      "isGpuEnabled": false
    },
    "colab": {
      "name": "Sustainable Fashion Eco-Friendly Trends Analysis",
      "provenance": [],
      "include_colab_link": true
    }
  },
  "nbformat_minor": 0,
  "nbformat": 4,
  "cells": [
    {
      "cell_type": "markdown",
      "metadata": {
        "id": "view-in-github",
        "colab_type": "text"
      },
      "source": [
        "<a href=\"https://colab.research.google.com/github/Javediamon/Credit-Card-Approval-Prediction/blob/main/Sustainable_Fashion_Eco_Friendly_Trends_Analysis.ipynb\" target=\"_parent\"><img src=\"https://colab.research.google.com/assets/colab-badge.svg\" alt=\"Open In Colab\"/></a>"
      ]
    },
    {
      "source": [
        "# IMPORTANT: RUN THIS CELL IN ORDER TO IMPORT YOUR KAGGLE DATA SOURCES,\n",
        "# THEN FEEL FREE TO DELETE THIS CELL.\n",
        "# NOTE: THIS NOTEBOOK ENVIRONMENT DIFFERS FROM KAGGLE'S PYTHON\n",
        "# ENVIRONMENT SO THERE MAY BE MISSING LIBRARIES USED BY YOUR\n",
        "# NOTEBOOK.\n",
        "import kagglehub\n",
        "waqi786_sustainable_fashion_eco_friendly_trends_path = kagglehub.dataset_download('waqi786/sustainable-fashion-eco-friendly-trends')\n",
        "\n",
        "print('Data source import complete.')\n"
      ],
      "metadata": {
        "id": "CAlE2Efjr1YP"
      },
      "cell_type": "code",
      "outputs": [],
      "execution_count": null
    },
    {
      "cell_type": "markdown",
      "source": [
        "# **Load data**"
      ],
      "metadata": {
        "id": "FMq5vct2r1YV"
      }
    },
    {
      "cell_type": "code",
      "source": [
        "import numpy as np\n",
        "import pandas as pd\n",
        "import matplotlib.pyplot as plt\n",
        "import seaborn as sns\n",
        "import warnings\n",
        "from sklearn.manifold import TSNE\n",
        "warnings.filterwarnings(\"ignore\")\n",
        "\n",
        "df=pd.read_csv(\"/kaggle/input/sustainable-fashion-eco-friendly-trends/sustainable_fashion_trends_2024.csv\")\n",
        "print(df.info())\n",
        "print(df.isnull().sum())\n",
        "print(df.head(10))"
      ],
      "metadata": {
        "_uuid": "8f2839f25d086af736a60e9eeb907d3b93b6e0e5",
        "_cell_guid": "b1076dfc-b9ad-4769-8c92-a6c4dae69d19",
        "execution": {
          "iopub.status.busy": "2024-09-13T04:21:53.71981Z",
          "iopub.execute_input": "2024-09-13T04:21:53.720269Z",
          "iopub.status.idle": "2024-09-13T04:21:55.151368Z",
          "shell.execute_reply.started": "2024-09-13T04:21:53.720226Z",
          "shell.execute_reply": "2024-09-13T04:21:55.149913Z"
        },
        "trusted": true,
        "id": "2RHYQ_Uqr1YX"
      },
      "execution_count": null,
      "outputs": []
    },
    {
      "cell_type": "code",
      "source": [
        "df['Certifications'].fillna('None', inplace=True)\n",
        "print(df.isnull().sum())"
      ],
      "metadata": {
        "execution": {
          "iopub.status.busy": "2024-09-13T04:21:55.158571Z",
          "iopub.execute_input": "2024-09-13T04:21:55.159078Z",
          "iopub.status.idle": "2024-09-13T04:21:55.175361Z",
          "shell.execute_reply.started": "2024-09-13T04:21:55.159019Z",
          "shell.execute_reply": "2024-09-13T04:21:55.173707Z"
        },
        "trusted": true,
        "id": "iQFJ3HBRr1YY"
      },
      "execution_count": null,
      "outputs": []
    },
    {
      "cell_type": "code",
      "source": [
        "\n",
        "print(df.describe())\n",
        "\n",
        "numeric_df = df.select_dtypes(include=['float64', 'int64'])\n",
        "plt.figure(figsize=(15, 10))\n",
        "sns.heatmap(numeric_df.corr(), annot=True, fmt=\".2f\")\n",
        "plt.show()\n"
      ],
      "metadata": {
        "execution": {
          "iopub.status.busy": "2024-09-13T04:21:55.177833Z",
          "iopub.execute_input": "2024-09-13T04:21:55.17839Z",
          "iopub.status.idle": "2024-09-13T04:21:55.73814Z",
          "shell.execute_reply.started": "2024-09-13T04:21:55.178332Z",
          "shell.execute_reply": "2024-09-13T04:21:55.736715Z"
        },
        "trusted": true,
        "id": "gHi3j6jUr1YZ"
      },
      "execution_count": null,
      "outputs": []
    },
    {
      "cell_type": "code",
      "source": [
        "sns.countplot(data=df, x=\"Sustainability_Rating\")\n",
        "plt.title('Distribution of Sustainability Ratings')\n",
        "plt.show()"
      ],
      "metadata": {
        "execution": {
          "iopub.status.busy": "2024-09-13T04:21:55.742478Z",
          "iopub.execute_input": "2024-09-13T04:21:55.743031Z",
          "iopub.status.idle": "2024-09-13T04:21:55.974918Z",
          "shell.execute_reply.started": "2024-09-13T04:21:55.742983Z",
          "shell.execute_reply": "2024-09-13T04:21:55.973457Z"
        },
        "trusted": true,
        "id": "DJyqfhtwr1YZ"
      },
      "execution_count": null,
      "outputs": []
    },
    {
      "cell_type": "code",
      "source": [
        "sns.histplot(df['Average_Price_USD'], bins=30, kde=True)\n",
        "plt.title('Distribution of Average Price (USD)')\n",
        "plt.show()"
      ],
      "metadata": {
        "execution": {
          "iopub.status.busy": "2024-09-13T04:21:55.976809Z",
          "iopub.execute_input": "2024-09-13T04:21:55.977351Z",
          "iopub.status.idle": "2024-09-13T04:21:56.389303Z",
          "shell.execute_reply.started": "2024-09-13T04:21:55.977292Z",
          "shell.execute_reply": "2024-09-13T04:21:56.388127Z"
        },
        "trusted": true,
        "id": "ZL5Pev4Hr1Ya"
      },
      "execution_count": null,
      "outputs": []
    },
    {
      "cell_type": "code",
      "source": [
        "sns.scatterplot(data=df, x='Carbon_Footprint_MT', y='Water_Usage_Liters', hue='Sustainability_Rating')\n",
        "plt.title('Carbon Footprint vs. Water Usage')\n",
        "plt.show()\n"
      ],
      "metadata": {
        "execution": {
          "iopub.status.busy": "2024-09-13T04:21:56.391019Z",
          "iopub.execute_input": "2024-09-13T04:21:56.391598Z",
          "iopub.status.idle": "2024-09-13T04:21:57.27271Z",
          "shell.execute_reply.started": "2024-09-13T04:21:56.391514Z",
          "shell.execute_reply": "2024-09-13T04:21:57.270999Z"
        },
        "trusted": true,
        "id": "k778HYuSr1Yb"
      },
      "execution_count": null,
      "outputs": []
    },
    {
      "cell_type": "code",
      "source": [
        "df[['Carbon_Footprint_MT', 'Water_Usage_Liters', 'Waste_Production_KG', 'Average_Price_USD']].hist(figsize=(15, 10), bins=30)\n",
        "plt.show()\n"
      ],
      "metadata": {
        "execution": {
          "iopub.status.busy": "2024-09-13T04:21:57.274705Z",
          "iopub.execute_input": "2024-09-13T04:21:57.275205Z",
          "iopub.status.idle": "2024-09-13T04:21:58.469038Z",
          "shell.execute_reply.started": "2024-09-13T04:21:57.275154Z",
          "shell.execute_reply": "2024-09-13T04:21:58.46738Z"
        },
        "trusted": true,
        "id": "3KYz_HNwr1Yb"
      },
      "execution_count": null,
      "outputs": []
    },
    {
      "cell_type": "code",
      "source": [
        "sns.pairplot(df[['Carbon_Footprint_MT', 'Water_Usage_Liters', 'Waste_Production_KG', 'Average_Price_USD', 'Sustainability_Rating']])\n",
        "plt.show()\n"
      ],
      "metadata": {
        "execution": {
          "iopub.status.busy": "2024-09-13T04:21:58.470762Z",
          "iopub.execute_input": "2024-09-13T04:21:58.471195Z",
          "iopub.status.idle": "2024-09-13T04:22:04.005627Z",
          "shell.execute_reply.started": "2024-09-13T04:21:58.47115Z",
          "shell.execute_reply": "2024-09-13T04:22:04.004252Z"
        },
        "trusted": true,
        "id": "Hl8lIPMnr1Yc"
      },
      "execution_count": null,
      "outputs": []
    },
    {
      "cell_type": "markdown",
      "source": [
        "# **Categorical Features Analysis**"
      ],
      "metadata": {
        "id": "qbFxvEbSr1Yc"
      }
    },
    {
      "cell_type": "code",
      "source": [
        "sns.countplot(data=df, x='Sustainability_Rating')\n",
        "plt.show()\n"
      ],
      "metadata": {
        "execution": {
          "iopub.status.busy": "2024-09-13T04:22:04.007115Z",
          "iopub.execute_input": "2024-09-13T04:22:04.007567Z",
          "iopub.status.idle": "2024-09-13T04:22:04.19596Z",
          "shell.execute_reply.started": "2024-09-13T04:22:04.007498Z",
          "shell.execute_reply": "2024-09-13T04:22:04.194144Z"
        },
        "trusted": true,
        "id": "0PH49aVrr1Yd"
      },
      "execution_count": null,
      "outputs": []
    },
    {
      "cell_type": "code",
      "source": [
        "df['Sustainability_Rating'].value_counts().plot.pie(autopct='%1.1f%%')\n",
        "plt.show()\n"
      ],
      "metadata": {
        "execution": {
          "iopub.status.busy": "2024-09-13T04:22:04.198603Z",
          "iopub.execute_input": "2024-09-13T04:22:04.199773Z",
          "iopub.status.idle": "2024-09-13T04:22:04.345699Z",
          "shell.execute_reply.started": "2024-09-13T04:22:04.199714Z",
          "shell.execute_reply": "2024-09-13T04:22:04.344035Z"
        },
        "trusted": true,
        "id": "p6O5K8xvr1Yd"
      },
      "execution_count": null,
      "outputs": []
    },
    {
      "cell_type": "code",
      "source": [
        "pd.crosstab(df['Country'], df['Sustainability_Rating']).plot.bar(stacked=True, figsize=(10, 7))\n",
        "plt.show()\n"
      ],
      "metadata": {
        "execution": {
          "iopub.status.busy": "2024-09-13T04:22:04.348185Z",
          "iopub.execute_input": "2024-09-13T04:22:04.350077Z",
          "iopub.status.idle": "2024-09-13T04:22:04.815415Z",
          "shell.execute_reply.started": "2024-09-13T04:22:04.34999Z",
          "shell.execute_reply": "2024-09-13T04:22:04.81408Z"
        },
        "trusted": true,
        "id": "io8pOkzpr1Ye"
      },
      "execution_count": null,
      "outputs": []
    },
    {
      "cell_type": "markdown",
      "source": [
        "# **Temporal Analysis**"
      ],
      "metadata": {
        "id": "hEGpujbCr1Ye"
      }
    },
    {
      "cell_type": "code",
      "source": [
        "df.groupby('Year')['Average_Price_USD'].mean().plot.line()\n",
        "plt.title('Average Price Over Years')\n",
        "plt.show()\n"
      ],
      "metadata": {
        "execution": {
          "iopub.status.busy": "2024-09-13T04:22:04.817792Z",
          "iopub.execute_input": "2024-09-13T04:22:04.818243Z",
          "iopub.status.idle": "2024-09-13T04:22:05.155315Z",
          "shell.execute_reply.started": "2024-09-13T04:22:04.818196Z",
          "shell.execute_reply": "2024-09-13T04:22:05.154072Z"
        },
        "trusted": true,
        "id": "DFma3Yz-r1Ye"
      },
      "execution_count": null,
      "outputs": []
    },
    {
      "cell_type": "code",
      "source": [
        "sns.countplot(data=df, x='Year')\n",
        "plt.xticks(rotation=90)\n",
        "plt.show()\n"
      ],
      "metadata": {
        "execution": {
          "iopub.status.busy": "2024-09-13T04:22:05.161763Z",
          "iopub.execute_input": "2024-09-13T04:22:05.162456Z",
          "iopub.status.idle": "2024-09-13T04:22:05.654506Z",
          "shell.execute_reply.started": "2024-09-13T04:22:05.162409Z",
          "shell.execute_reply": "2024-09-13T04:22:05.652991Z"
        },
        "trusted": true,
        "id": "yr1PP-yZr1Ye"
      },
      "execution_count": null,
      "outputs": []
    },
    {
      "cell_type": "markdown",
      "source": [
        "# **Geographical Analysis**"
      ],
      "metadata": {
        "id": "w30dWMTKr1Ye"
      }
    },
    {
      "cell_type": "code",
      "source": [
        "sns.countplot(data=df, x='Country', order=df['Country'].value_counts().index)\n",
        "plt.xticks(rotation=90)\n",
        "plt.show()\n"
      ],
      "metadata": {
        "execution": {
          "iopub.status.busy": "2024-09-13T04:22:05.656342Z",
          "iopub.execute_input": "2024-09-13T04:22:05.656885Z",
          "iopub.status.idle": "2024-09-13T04:22:05.950387Z",
          "shell.execute_reply.started": "2024-09-13T04:22:05.656828Z",
          "shell.execute_reply": "2024-09-13T04:22:05.949015Z"
        },
        "trusted": true,
        "id": "kvBEkp8Yr1Yf"
      },
      "execution_count": null,
      "outputs": []
    },
    {
      "cell_type": "code",
      "source": [
        "df['Country'].value_counts().plot.pie(autopct='%1.1f%%')\n",
        "plt.show()\n"
      ],
      "metadata": {
        "execution": {
          "iopub.status.busy": "2024-09-13T04:22:05.952065Z",
          "iopub.execute_input": "2024-09-13T04:22:05.952584Z",
          "iopub.status.idle": "2024-09-13T04:22:06.18755Z",
          "shell.execute_reply.started": "2024-09-13T04:22:05.952516Z",
          "shell.execute_reply": "2024-09-13T04:22:06.185352Z"
        },
        "trusted": true,
        "id": "uo9pJm46r1Yf"
      },
      "execution_count": null,
      "outputs": []
    },
    {
      "cell_type": "code",
      "source": [
        "sns.violinplot(data=df, x='Sustainability_Rating', y='Average_Price_USD')\n",
        "plt.show()\n"
      ],
      "metadata": {
        "execution": {
          "iopub.status.busy": "2024-09-13T04:22:06.190259Z",
          "iopub.execute_input": "2024-09-13T04:22:06.192425Z",
          "iopub.status.idle": "2024-09-13T04:22:06.553191Z",
          "shell.execute_reply.started": "2024-09-13T04:22:06.192322Z",
          "shell.execute_reply": "2024-09-13T04:22:06.551978Z"
        },
        "trusted": true,
        "id": "xK5qlS6Kr1Yf"
      },
      "execution_count": null,
      "outputs": []
    },
    {
      "cell_type": "code",
      "source": [
        "sns.swarmplot(data=df, x='Sustainability_Rating', y='Water_Usage_Liters')\n",
        "plt.show()\n"
      ],
      "metadata": {
        "execution": {
          "iopub.status.busy": "2024-09-13T04:22:06.554936Z",
          "iopub.execute_input": "2024-09-13T04:22:06.555455Z",
          "iopub.status.idle": "2024-09-13T04:22:31.876217Z",
          "shell.execute_reply.started": "2024-09-13T04:22:06.555398Z",
          "shell.execute_reply": "2024-09-13T04:22:31.874899Z"
        },
        "trusted": true,
        "id": "KHwev5EBr1Yf"
      },
      "execution_count": null,
      "outputs": []
    },
    {
      "cell_type": "code",
      "source": [
        "g = sns.FacetGrid(df, col='Sustainability_Rating', height=4, aspect=1.2)\n",
        "g.map(sns.scatterplot, 'Carbon_Footprint_MT', 'Water_Usage_Liters')\n",
        "plt.show()\n"
      ],
      "metadata": {
        "execution": {
          "iopub.status.busy": "2024-09-13T04:22:31.878147Z",
          "iopub.execute_input": "2024-09-13T04:22:31.878722Z",
          "iopub.status.idle": "2024-09-13T04:22:33.357006Z",
          "shell.execute_reply.started": "2024-09-13T04:22:31.878663Z",
          "shell.execute_reply": "2024-09-13T04:22:33.355483Z"
        },
        "trusted": true,
        "id": "OB5nAs91r1Yg"
      },
      "execution_count": null,
      "outputs": []
    },
    {
      "cell_type": "markdown",
      "source": [
        "# **Distribution Analysis**"
      ],
      "metadata": {
        "id": "1yxtdwk_r1Yg"
      }
    },
    {
      "cell_type": "code",
      "source": [
        "sns.kdeplot(df['Average_Price_USD'], shade=True)\n",
        "plt.show()\n"
      ],
      "metadata": {
        "execution": {
          "iopub.status.busy": "2024-09-13T04:22:33.358825Z",
          "iopub.execute_input": "2024-09-13T04:22:33.35929Z",
          "iopub.status.idle": "2024-09-13T04:22:33.69601Z",
          "shell.execute_reply.started": "2024-09-13T04:22:33.35924Z",
          "shell.execute_reply": "2024-09-13T04:22:33.694776Z"
        },
        "trusted": true,
        "id": "xPN8OxlEr1Yg"
      },
      "execution_count": null,
      "outputs": []
    },
    {
      "cell_type": "code",
      "source": [
        "sns.displot(df['Carbon_Footprint_MT'], kde=True)\n",
        "plt.show()\n"
      ],
      "metadata": {
        "execution": {
          "iopub.status.busy": "2024-09-13T04:22:33.69793Z",
          "iopub.execute_input": "2024-09-13T04:22:33.698336Z",
          "iopub.status.idle": "2024-09-13T04:22:34.203014Z",
          "shell.execute_reply.started": "2024-09-13T04:22:33.698294Z",
          "shell.execute_reply": "2024-09-13T04:22:34.201833Z"
        },
        "trusted": true,
        "id": "61_anUOZr1Yg"
      },
      "execution_count": null,
      "outputs": []
    },
    {
      "cell_type": "code",
      "source": [
        "sns.ecdfplot(df['Waste_Production_KG'])\n",
        "plt.show()\n"
      ],
      "metadata": {
        "execution": {
          "iopub.status.busy": "2024-09-13T04:22:34.204433Z",
          "iopub.execute_input": "2024-09-13T04:22:34.204872Z",
          "iopub.status.idle": "2024-09-13T04:22:34.488683Z",
          "shell.execute_reply.started": "2024-09-13T04:22:34.204825Z",
          "shell.execute_reply": "2024-09-13T04:22:34.487365Z"
        },
        "trusted": true,
        "id": "rcUBorf2r1Yg"
      },
      "execution_count": null,
      "outputs": []
    },
    {
      "cell_type": "markdown",
      "source": [
        "# **Comparison Plots**"
      ],
      "metadata": {
        "id": "c8BhdhIAr1Yg"
      }
    },
    {
      "cell_type": "code",
      "source": [
        "g = sns.FacetGrid(df, col='Sustainability_Rating', height=4, aspect=1.2)\n",
        "g.map(sns.histplot, 'Average_Price_USD', bins=30)\n",
        "plt.show()\n"
      ],
      "metadata": {
        "execution": {
          "iopub.status.busy": "2024-09-13T04:22:34.490648Z",
          "iopub.execute_input": "2024-09-13T04:22:34.491084Z",
          "iopub.status.idle": "2024-09-13T04:22:35.970601Z",
          "shell.execute_reply.started": "2024-09-13T04:22:34.491041Z",
          "shell.execute_reply": "2024-09-13T04:22:35.969406Z"
        },
        "trusted": true,
        "id": "k4BGZIO8r1Yh"
      },
      "execution_count": null,
      "outputs": []
    },
    {
      "cell_type": "code",
      "source": [
        "sns.boxplot(data=df, x='Country', y='Water_Usage_Liters')\n",
        "plt.xticks(rotation=90)\n",
        "plt.show()\n"
      ],
      "metadata": {
        "execution": {
          "iopub.status.busy": "2024-09-13T04:22:35.972144Z",
          "iopub.execute_input": "2024-09-13T04:22:35.97255Z",
          "iopub.status.idle": "2024-09-13T04:22:36.368855Z",
          "shell.execute_reply.started": "2024-09-13T04:22:35.972485Z",
          "shell.execute_reply": "2024-09-13T04:22:36.367507Z"
        },
        "trusted": true,
        "id": "wxggfDv7r1Yh"
      },
      "execution_count": null,
      "outputs": []
    },
    {
      "cell_type": "code",
      "source": [
        "sns.boxplot(data=df, x='Sustainability_Rating', y='Carbon_Footprint_MT')\n",
        "plt.title('Carbon Footprint by Sustainability Rating')\n",
        "plt.show()\n"
      ],
      "metadata": {
        "execution": {
          "iopub.status.busy": "2024-09-13T04:22:36.370284Z",
          "iopub.execute_input": "2024-09-13T04:22:36.370691Z",
          "iopub.status.idle": "2024-09-13T04:22:36.938276Z",
          "shell.execute_reply.started": "2024-09-13T04:22:36.370649Z",
          "shell.execute_reply": "2024-09-13T04:22:36.937021Z"
        },
        "trusted": true,
        "id": "I-_aC4WAr1Yh"
      },
      "execution_count": null,
      "outputs": []
    },
    {
      "cell_type": "code",
      "source": [
        "sns.violinplot(data=df, x='Sustainability_Rating', y='Water_Usage_Liters')\n",
        "plt.title('Water Usage by Sustainability Rating')\n",
        "plt.show()\n"
      ],
      "metadata": {
        "execution": {
          "iopub.status.busy": "2024-09-13T04:22:36.93986Z",
          "iopub.execute_input": "2024-09-13T04:22:36.940271Z",
          "iopub.status.idle": "2024-09-13T04:22:37.33081Z",
          "shell.execute_reply.started": "2024-09-13T04:22:36.940215Z",
          "shell.execute_reply": "2024-09-13T04:22:37.329413Z"
        },
        "trusted": true,
        "id": "iz2D0b7zr1Yh"
      },
      "execution_count": null,
      "outputs": []
    },
    {
      "cell_type": "code",
      "source": [
        "sns.pairplot(df[['Carbon_Footprint_MT', 'Water_Usage_Liters', 'Waste_Production_KG', 'Average_Price_USD', 'Sustainability_Rating']], hue='Sustainability_Rating')\n",
        "plt.show()\n"
      ],
      "metadata": {
        "execution": {
          "iopub.status.busy": "2024-09-13T04:22:37.332443Z",
          "iopub.execute_input": "2024-09-13T04:22:37.332933Z",
          "iopub.status.idle": "2024-09-13T04:22:49.479321Z",
          "shell.execute_reply.started": "2024-09-13T04:22:37.332887Z",
          "shell.execute_reply": "2024-09-13T04:22:49.477715Z"
        },
        "trusted": true,
        "id": "WlnEh2c7r1Yh"
      },
      "execution_count": null,
      "outputs": []
    },
    {
      "cell_type": "code",
      "source": [
        "tsne = TSNE(n_components=2, random_state=0)\n",
        "tsne_results = tsne.fit_transform(df[['Carbon_Footprint_MT', 'Water_Usage_Liters', 'Waste_Production_KG', 'Average_Price_USD']])\n",
        "df_tsne = pd.DataFrame(tsne_results, columns=['Dim1', 'Dim2'])\n",
        "df_tsne['Sustainability_Rating'] = df['Sustainability_Rating']\n",
        "\n",
        "sns.scatterplot(data=df_tsne, x='Dim1', y='Dim2', hue='Sustainability_Rating')\n",
        "plt.title('t-SNE Visualization of Sustainability Features')\n",
        "plt.show()\n"
      ],
      "metadata": {
        "execution": {
          "iopub.status.busy": "2024-09-13T04:22:49.48189Z",
          "iopub.execute_input": "2024-09-13T04:22:49.482405Z",
          "iopub.status.idle": "2024-09-13T04:23:17.167224Z",
          "shell.execute_reply.started": "2024-09-13T04:22:49.482355Z",
          "shell.execute_reply": "2024-09-13T04:23:17.165837Z"
        },
        "trusted": true,
        "id": "LEg84WUEr1Yi"
      },
      "execution_count": null,
      "outputs": []
    }
  ]
}